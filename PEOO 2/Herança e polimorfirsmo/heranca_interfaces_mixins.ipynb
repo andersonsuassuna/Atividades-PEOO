{
 "cells": [
  {
   "cell_type": "markdown",
   "id": "d814ffae",
   "metadata": {
    "id": "d814ffae"
   },
   "source": [
    "\n",
    "# 🔹 **Aula Interativa: Herança Múltipla, Interfaces e Mixins em Python**\n",
    "## 📌 Objetivos da Aula\n",
    "1. **Entender a Herança Múltipla** e seus desafios, como o problema do **diamante**.\n",
    "2. **Explorar Interfaces em Python**, aplicadas em um cenário realista de **jogadores de futebol**.\n",
    "3. **Compreender o papel dos Mixins**, modularizando funcionalidades reutilizáveis.\n",
    "4. **Praticar com exercícios desafiadores**, unindo todos os conceitos aprendidos.\n",
    "\n",
    "---\n"
   ]
  },
  {
   "cell_type": "markdown",
   "id": "27d0d201",
   "metadata": {
    "id": "27d0d201"
   },
   "source": [
    "\n",
    "## **1️⃣ Herança Múltipla e o Problema do Diamante**\n",
    "\n",
    "Ocorre quando múltiplas classes herdam de uma base comum, causando **conflitos na ordem de resolução dos métodos (MRO - Method Resolution Order)**.\n",
    "\n",
    "### 📌 **Exemplo prático do problema do diamante**\n"
   ]
  },
  {
   "cell_type": "code",
   "execution_count": 4,
   "id": "2037d9a4",
   "metadata": {
    "colab": {
     "base_uri": "https://localhost:8080/"
    },
    "executionInfo": {
     "elapsed": 266,
     "status": "ok",
     "timestamp": 1738261553661,
     "user": {
      "displayName": "Demetrios Araujo Magalhaes Coutinho",
      "userId": "09720684431279770351"
     },
     "user_tz": 180
    },
    "id": "2037d9a4",
    "outputId": "a0d74a24-e42c-4a88-adc5-cf6811001775"
   },
   "outputs": [
    {
     "name": "stdout",
     "output_type": "stream",
     "text": [
      "Método3 de A\n"
     ]
    }
   ],
   "source": [
    "\n",
    "class A:\n",
    "    def metodo(self):\n",
    "        print(\"Método de A\")\n",
    "    def metodo3(self):\n",
    "        print(\"Método3 de A\")\n",
    "\n",
    "class B(A):\n",
    "    def metodo(self):\n",
    "        print(\"Método de B\")\n",
    "\n",
    "\n",
    "class C(A):\n",
    "    def metodo(self):\n",
    "        print(\"Método de C\")\n",
    "\n",
    "    def metodo2(self):\n",
    "        print(\"Método2 de C\")\n",
    "\n",
    "class D(B, C):  # Herda de B e C, ambas herdam de A\n",
    "    def metodo(self):\n",
    "        super....\n",
    "\n",
    "d = D()\n",
    "d.metodo3()  # Qual método será chamado?\n"
   ]
  },
  {
   "cell_type": "markdown",
   "id": "9d6fa576",
   "metadata": {
    "id": "9d6fa576"
   },
   "source": [
    "\n",
    "🔍 **Descobrindo a Ordem de Chamada (MRO)**  \n",
    "Podemos verificar a ordem de resolução de métodos usando:\n"
   ]
  },
  {
   "cell_type": "code",
   "execution_count": 5,
   "id": "5eb954eb",
   "metadata": {
    "colab": {
     "base_uri": "https://localhost:8080/"
    },
    "executionInfo": {
     "elapsed": 259,
     "status": "ok",
     "timestamp": 1738261599311,
     "user": {
      "displayName": "Demetrios Araujo Magalhaes Coutinho",
      "userId": "09720684431279770351"
     },
     "user_tz": 180
    },
    "id": "5eb954eb",
    "outputId": "5d9e3092-0ef7-4695-d2af-b2cdb40f3ef3"
   },
   "outputs": [
    {
     "name": "stdout",
     "output_type": "stream",
     "text": [
      "(<class '__main__.D'>, <class '__main__.B'>, <class '__main__.C'>, <class '__main__.A'>, <class 'object'>)\n"
     ]
    }
   ],
   "source": [
    "\n",
    "print(D.__mro__)  # Ou D.mro()\n"
   ]
  },
  {
   "cell_type": "markdown",
   "id": "9335b580",
   "metadata": {
    "id": "9335b580"
   },
   "source": [
    "\n",
    "### 🛠 **📝 Exercício 1:**  \n",
    "Modifique o código para:\n",
    "- Criar **métodos distintos** para `B` e `C`.\n",
    "- Adicionar uma **chamada explícita ao `super()`**.\n",
    "- Testar o comportamento quando `D` sobrescreve `metodo()`.\n"
   ]
  },
  {
   "cell_type": "markdown",
   "id": "1da326c3",
   "metadata": {
    "id": "1da326c3"
   },
   "source": [
    "\n",
    "## **2️⃣ Interfaces Aplicadas ao Futebol**\n",
    "\n",
    "No futebol, diferentes jogadores possuem **habilidades únicas**. Vamos modelar isso com **interfaces**.\n",
    "\n",
    "### 📌 **Criando Interfaces para Habilidades de Jogadores**\n"
   ]
  },
  {
   "cell_type": "code",
   "execution_count": null,
   "id": "f79a3ca8",
   "metadata": {
    "id": "f79a3ca8"
   },
   "outputs": [],
   "source": [
    "\n",
    "from abc import ABC, abstractmethod\n",
    "\n",
    "# Interface para um atacante\n",
    "class Atacante(ABC):\n",
    "    @abstractmethod\n",
    "    def chutar_ao_gol(self):\n",
    "        pass\n",
    "\n",
    "# Interface para um defensor\n",
    "class Defensor(ABC):\n",
    "    @abstractmethod\n",
    "    def bloquear_chute(self):\n",
    "        pass\n",
    "\n",
    "# Interface para um meio-campista\n",
    "class MeioCampista(ABC):\n",
    "    @abstractmethod\n",
    "    def dar_assistencia(self):\n",
    "        pass\n"
   ]
  },
  {
   "cell_type": "markdown",
   "id": "44676717",
   "metadata": {
    "id": "44676717"
   },
   "source": [
    "\n",
    "### 📌 **Criando jogadores específicos com múltiplas interfaces**\n"
   ]
  },
  {
   "cell_type": "code",
   "execution_count": null,
   "id": "257930d1",
   "metadata": {
    "id": "257930d1"
   },
   "outputs": [],
   "source": [
    "\n",
    "class Jogador1(Atacante, MeioCampista):\n",
    "    def chutar_ao_gol(self):\n",
    "        print(\"Jogador1 chutou forte no gol!\")\n",
    "\n",
    "    def dar_assistencia(self):\n",
    "        print(\"Jogador1 deu uma bela assistência!\")\n",
    "\n",
    "class Jogador2(Defensor, MeioCampista):\n",
    "    def bloquear_chute(self):\n",
    "        print(\"Jogador2 bloqueou o chute!\")\n",
    "\n",
    "    def dar_assistencia(self):\n",
    "        print(\"Jogador2 fez um passe incrível!\")\n"
   ]
  },
  {
   "cell_type": "markdown",
   "id": "09d9d500",
   "metadata": {
    "id": "09d9d500"
   },
   "source": [
    "\n",
    "### 📌 **Testando os jogadores**\n"
   ]
  },
  {
   "cell_type": "code",
   "execution_count": null,
   "id": "b6d9aaa0",
   "metadata": {
    "colab": {
     "base_uri": "https://localhost:8080/"
    },
    "executionInfo": {
     "elapsed": 429,
     "status": "ok",
     "timestamp": 1738179114611,
     "user": {
      "displayName": "Demetrios Araujo Magalhaes Coutinho",
      "userId": "09720684431279770351"
     },
     "user_tz": 180
    },
    "id": "b6d9aaa0",
    "outputId": "0d2d0d71-9dd9-4d33-c3f7-1bc216f268d8"
   },
   "outputs": [
    {
     "name": "stdout",
     "output_type": "stream",
     "text": [
      "Jogador1 chutou forte no gol!\n",
      "Jogador1 deu uma bela assistência!\n",
      "Jogador2 bloqueou o chute!\n",
      "Jogador2 fez um passe incrível!\n"
     ]
    }
   ],
   "source": [
    "\n",
    "j1 = Jogador1()\n",
    "j1.chutar_ao_gol()\n",
    "j1.dar_assistencia()\n",
    "\n",
    "j2 = Jogador2()\n",
    "j2.bloquear_chute()\n",
    "j2.dar_assistencia()\n"
   ]
  },
  {
   "cell_type": "markdown",
   "id": "9bdb1909",
   "metadata": {
    "id": "9bdb1909"
   },
   "source": [
    "\n",
    "### 🎯 **📝 Exercício 2:**  \n",
    "- Adicione uma nova interface `Goleiro` com um método `defender_penalti()`.\n",
    "- Crie um jogador que implemente **pelo menos duas interfaces** (exemplo: **Goleiro e Defensor**).\n",
    "- Teste os métodos!\n"
   ]
  },
  {
   "cell_type": "markdown",
   "id": "31498b48",
   "metadata": {
    "id": "31498b48"
   },
   "source": [
    "\n",
    "## **3️⃣ Mixins: Modularizando Funcionalidades**\n",
    "\n",
    "Mixins permitem adicionar funcionalidades sem criar dependências rígidas. Vamos criar **três mixins úteis**:\n",
    "1. `LogMixin` → Para registrar eventos.\n",
    "2. `NotificacaoMixin` → Para enviar notificações.\n",
    "3. `SerializacaoMixin` → Para salvar dados como JSON.\n",
    "\n",
    "### 📌 **Criando os Mixins**\n"
   ]
  },
  {
   "cell_type": "code",
   "execution_count": null,
   "id": "4f92bdf3",
   "metadata": {
    "id": "4f92bdf3"
   },
   "outputs": [],
   "source": [
    "\n",
    "import json\n",
    "\n",
    "class LogMixin:\n",
    "    def log(self, mensagem):\n",
    "        print(f\"LOG: {mensagem}\")\n",
    "\n",
    "class NotificacaoMixin:\n",
    "    def enviar_notificacao(self, usuario, mensagem):\n",
    "        print(f\"Enviando notificação para {usuario}: {mensagem}\")\n",
    "\n",
    "class SerializacaoMixin:\n",
    "    def salvar_como_json(self, dados, arquivo=\"dados.json\"):\n",
    "        with open(arquivo, \"w\") as f:\n",
    "            json.dump(dados, f)\n",
    "        print(f\"Dados salvos em {arquivo}\")\n"
   ]
  },
  {
   "cell_type": "markdown",
   "id": "5eb256af",
   "metadata": {
    "id": "5eb256af"
   },
   "source": [
    "\n",
    "### 📌 **Aplicando Mixins a um Sistema de Usuários**\n"
   ]
  },
  {
   "cell_type": "code",
   "execution_count": null,
   "id": "edaa4366",
   "metadata": {
    "id": "edaa4366"
   },
   "outputs": [],
   "source": [
    "\n",
    "class Usuario(LogMixin, NotificacaoMixin, SerializacaoMixin):\n",
    "    def __init__(self, nome, email):\n",
    "        self.nome = nome\n",
    "        self.email = email\n",
    "        self.log(f\"Usuário {self.nome} criado.\")\n",
    "\n",
    "    def salvar_dados(self):\n",
    "        dados = {\"nome\": self.nome, \"email\": self.email}\n",
    "        self.salvar_como_json(dados)\n"
   ]
  },
  {
   "cell_type": "markdown",
   "id": "023dc3bf",
   "metadata": {
    "id": "023dc3bf"
   },
   "source": [
    "\n",
    "### 📌 **Testando Mixins**\n"
   ]
  },
  {
   "cell_type": "code",
   "execution_count": null,
   "id": "f9e9d3ef",
   "metadata": {
    "colab": {
     "base_uri": "https://localhost:8080/"
    },
    "executionInfo": {
     "elapsed": 326,
     "status": "ok",
     "timestamp": 1738179137374,
     "user": {
      "displayName": "Demetrios Araujo Magalhaes Coutinho",
      "userId": "09720684431279770351"
     },
     "user_tz": 180
    },
    "id": "f9e9d3ef",
    "outputId": "038ca3d1-8e0f-4768-92b9-a90b15550d80"
   },
   "outputs": [
    {
     "name": "stdout",
     "output_type": "stream",
     "text": [
      "LOG: Usuário Alice criado.\n",
      "Enviando notificação para Alice: Bem-vinda ao sistema!\n",
      "Dados salvos em dados.json\n"
     ]
    }
   ],
   "source": [
    "\n",
    "usuario = Usuario(\"Alice\", \"alice@email.com\")\n",
    "usuario.enviar_notificacao(\"Alice\", \"Bem-vinda ao sistema!\")\n",
    "usuario.salvar_dados()\n"
   ]
  },
  {
   "cell_type": "markdown",
   "id": "lfnDADlyjXFZ",
   "metadata": {
    "id": "lfnDADlyjXFZ"
   },
   "source": [
    "📌 **Benefícios do uso de Mixins:**\n",
    "✅ Código mais modular e reutilizável.  \n",
    "✅ Evita heranças múltiplas complexas.  \n",
    "✅ Permite adicionar funcionalidades sem alterar a hierarquia principal.\n",
    "\n",
    "🎯 **📝 Exercício 3:**\n",
    "- Adicione um novo **Mixin** `AutenticacaoMixin`, com um método `verificar_senha()`.\n",
    "- Modifique a classe `Usuario` para incluir esse novo mixin.\n",
    "- Teste a verificação de senha!\n",
    "\n",
    "---\n"
   ]
  },
  {
   "cell_type": "markdown",
   "id": "gAV7-OFxjoY-",
   "metadata": {
    "id": "gAV7-OFxjoY-"
   },
   "source": [
    "\n",
    "## **4️⃣ Desafio Final: Juntando Tudo!**\n",
    "🛠 **Crie um sistema de veículos no qual:**\n",
    "1. `Veiculo` é uma classe base com um método `mover()`.\n",
    "2. `Motorizado` e `Eletrico` são **Mixins** com `ligar_motor()` e `carregar_bateria()`, respectivamente.\n",
    "3. `Carro` herda de `Veiculo` e usa `Motorizado`.\n",
    "4. `CarroEletrico` herda de `Carro` e usa `Eletrico`.\n",
    "5. `Bicicleta` herda de `Veiculo` e **não pode usar motores**.\n",
    "\n",
    "📌 **Modelo inicial para completar**\n",
    "```python\n",
    "class Veiculo:\n",
    "    def mover(self):\n",
    "        pass\n",
    "\n",
    "class Motorizado:\n",
    "    def ligar_motor(self):\n",
    "        pass\n",
    "\n",
    "class Eletrico:\n",
    "    def carregar_bateria(self):\n",
    "        pass\n",
    "\n",
    "# IMPLEMENTE Carro, CarroEletrico e Bicicleta!\n",
    "\n",
    "# Teste suas classes chamando os métodos apropriados\n",
    "```\n",
    "\n",
    "📌 **Testes esperados:**\n",
    "```python\n",
    "tesla = CarroEletrico()\n",
    "tesla.ligar_motor()\n",
    "tesla.carregar_bateria()\n",
    "tesla.mover()\n",
    "\n",
    "bike = Bicicleta()\n",
    "bike.mover()\n",
    "```\n",
    "\n",
    "---\n"
   ]
  },
  {
   "cell_type": "markdown",
   "id": "frakZGt9jsvX",
   "metadata": {
    "id": "frakZGt9jsvX"
   },
   "source": [
    "\n",
    "## 🎯 **Conclusão**\n",
    "✔️ **Herança Múltipla** pode ser poderosa, mas exige atenção ao **MRO**.  \n",
    "✔️ **Interfaces** ajudam a definir contratos claros de métodos obrigatórios.  \n",
    "✔️ **Mixins** modularizam funcionalidades sem sobrecarregar a hierarquia.  \n",
    "✔️ **Exercícios práticos** aplicam os conceitos e consolidam o aprendizado!"
   ]
  }
 ],
 "metadata": {
  "colab": {
   "provenance": []
  },
  "kernelspec": {
   "display_name": "Python 3",
   "name": "python3"
  },
  "language_info": {
   "name": "python"
  }
 },
 "nbformat": 4,
 "nbformat_minor": 5
}
